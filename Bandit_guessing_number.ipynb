{
 "cells": [
  {
   "cell_type": "markdown",
   "metadata": {},
   "source": [
    "# prerequisite\n",
    "\n",
    "* language: Python3.7\n",
    "* Python lib\n",
    "    * scikit-learn-0.20.2\n",
    "    * pandas-0.24.1\n",
    "    * matplotlib-3.0.2"
   ]
  },
  {
   "cell_type": "code",
   "execution_count": 1,
   "metadata": {},
   "outputs": [],
   "source": [
    "%matplotlib inline\n",
    "import PIL.Image\n",
    "import IPython.display\n",
    "import numpy as np\n",
    "from sklearn import datasets\n",
    "from sklearn import linear_model\n",
    "import pandas as pd\n",
    "import matplotlib.pyplot as plt"
   ]
  },
  {
   "cell_type": "code",
   "execution_count": 2,
   "metadata": {},
   "outputs": [],
   "source": [
    "#helpler function\n",
    "def showarray(a):\n",
    "    a = np.uint8(a)\n",
    "    IPython.display.display(PIL.Image.fromarray(a))"
   ]
  },
  {
   "cell_type": "code",
   "execution_count": 3,
   "metadata": {},
   "outputs": [],
   "source": [
    "# TODO replace the sampled 8*8 digits dataset with full MNIST"
   ]
  },
  {
   "cell_type": "markdown",
   "metadata": {},
   "source": [
    "## load dataset"
   ]
  },
  {
   "cell_type": "code",
   "execution_count": 4,
   "metadata": {},
   "outputs": [],
   "source": [
    "data, label = datasets.load_digits(return_X_y=True)"
   ]
  },
  {
   "cell_type": "code",
   "execution_count": 5,
   "metadata": {},
   "outputs": [],
   "source": [
    "instance, feature_num = data.shape\n",
    "np.random.seed(2019)\n",
    "randomize = np.random.permutation(instance)\n",
    "data = data[randomize]\n",
    "label = label[randomize]"
   ]
  },
  {
   "cell_type": "code",
   "execution_count": 6,
   "metadata": {},
   "outputs": [
    {
     "name": "stdout",
     "output_type": "stream",
     "text": [
      "1797 instance with 64 features\n",
      "data shape (1797, 64)\n",
      "label shape (1797,)\n"
     ]
    }
   ],
   "source": [
    "print(\"%d instance with %d features\" % (instance, feature_num))\n",
    "print('data shape', data.shape)\n",
    "print('label shape', label.shape)"
   ]
  },
  {
   "cell_type": "markdown",
   "metadata": {},
   "source": [
    "## check loaded data"
   ]
  },
  {
   "cell_type": "code",
   "execution_count": 7,
   "metadata": {},
   "outputs": [],
   "source": [
    "debug_data = data.reshape((1797, 8, 8))"
   ]
  },
  {
   "cell_type": "code",
   "execution_count": 8,
   "metadata": {},
   "outputs": [
    {
     "name": "stdout",
     "output_type": "stream",
     "text": [
      "label is 6\n",
      "image is \n"
     ]
    },
    {
     "data": {
      "image/png": "[encoded data removed]",
      "text/plain": [
       "<PIL.Image.Image image mode=L size=8x8 at 0x128248198>"
      ]
     },
     "metadata": {},
     "output_type": "display_data"
    }
   ],
   "source": [
    "idx = 4\n",
    "img = 256 - debug_data[idx]\n",
    "l = label[idx]\n",
    "print(\"label is %d\" % l)\n",
    "print(\"image is \")\n",
    "showarray(img)"
   ]
  },
  {
   "cell_type": "markdown",
   "metadata": {},
   "source": [
    "## bandit algorithm with epsilon 0.5"
   ]
  },
  {
   "cell_type": "code",
   "execution_count": 9,
   "metadata": {},
   "outputs": [],
   "source": [
    "def run_agent(epsilon, epochs):\n",
    "    arms = list(range(0, 10))\n",
    "    # arm -> ([feature0, feature1, ...], [0, 1, ...])\n",
    "    train_set = {}\n",
    "\n",
    "    # arm -> theta_array: np array\n",
    "    theta_set = {}\n",
    "\n",
    "    for arm in arms:\n",
    "        train_set[arm] = ([], [])\n",
    "        v = np.zeros(feature_num + 1)\n",
    "        v[-1] = 0.5\n",
    "        theta_set[arm] = v\n",
    "\n",
    "    avg_actual_reward = []\n",
    "    actual_reward_sum = 0\n",
    "    trials = []\n",
    "    idx = 0\n",
    "    for epoch in range(epochs):\n",
    "        for t in range(instance):\n",
    "            append_feature = np.append(data[t], [1])\n",
    "            pickup_arm = arms[0]\n",
    "            if np.random.rand() < epsilon:\n",
    "                # exploration\n",
    "                pickup_arm = arms[np.random.randint(len(arms))]        \n",
    "            else:\n",
    "                # exploitation\n",
    "                max_arm = [arms[0]] # the arm with same reward\n",
    "                max_reward = -1 # possible min reward is 0\n",
    "                for arm in arms:\n",
    "                    expected_reward = theta_set[arm].dot(append_feature)            \n",
    "                    if expected_reward > max_reward:\n",
    "                        max_reward = expected_reward\n",
    "                        max_arm = [arm]\n",
    "                    elif expected_reward == max_reward:\n",
    "                        max_arm.append(arm)\n",
    "                pickup_arm = max_arm[np.random.randint(len(max_arm))]        \n",
    "\n",
    "            actual_reward = int(pickup_arm == label[t])\n",
    "            train_set[pickup_arm][0].append(append_feature)\n",
    "            train_set[pickup_arm][1].append(actual_reward)\n",
    "\n",
    "            trials.append(idx)\n",
    "            actual_reward_sum += actual_reward\n",
    "            avg_actual_reward.append( actual_reward_sum / len(trials))\n",
    "            idx += 1\n",
    "            # update theta_set[pickup_arm] since we observe new train instance\n",
    "            if len(train_set[pickup_arm][1]) > 10:\n",
    "                reg = linear_model.LinearRegression()\n",
    "                reg.fit(train_set[pickup_arm][0], train_set[pickup_arm][1])\n",
    "                theta_set[pickup_arm] = reg.coef_\n",
    "    return trials, avg_actual_reward"
   ]
  },
  {
   "cell_type": "code",
   "execution_count": 10,
   "metadata": {
    "scrolled": true
   },
   "outputs": [
    {
     "data": {
      "image/png": "[encoded data removed]",
      "text/plain": [
       "<Figure size 432x288 with 1 Axes>"
      ]
     },
     "metadata": {
      "needs_background": "light"
     },
     "output_type": "display_data"
    }
   ],
   "source": [
    "legends = []\n",
    "fig, num_ax = plt.subplots(nrows=1, ncols=1)\n",
    "for epsilon in [0.5, 0.2, 0.1, 0.01, 0]:\n",
    "    trials_agent, avg_actual_reward_agent = run_agent(epsilon, epochs=20)\n",
    "    line = num_ax.plot(trials_agent, avg_actual_reward_agent, '--')\n",
    "    legends.append(\"ℇ = %.2f\" % epsilon)\n",
    "num_ax.set(title=\"average reward for agent\", xlabel=\"trial\", ylabel=\"average reward\")   \n",
    "num_ax.legend(legends, loc='lower right')\n",
    "fig.savefig(\"plot.pdf\")"
   ]
  },
  {
   "cell_type": "code",
   "execution_count": null,
   "metadata": {},
   "outputs": [],
   "source": []
  }
 ],
 "metadata": {
  "kernelspec": {
   "display_name": "Python 3",
   "language": "python",
   "name": "python3"
  },
  "language_info": {
   "codemirror_mode": {
    "name": "ipython",
    "version": 3
   },
   "file_extension": ".py",
   "mimetype": "text/x-python",
   "name": "python",
   "nbconvert_exporter": "python",
   "pygments_lexer": "ipython3",
   "version": "3.7.1"
  }
 },
 "nbformat": 4,
 "nbformat_minor": 2
}
